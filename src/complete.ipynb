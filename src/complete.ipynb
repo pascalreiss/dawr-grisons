{
 "cells": [
  {
   "cell_type": "code",
   "execution_count": null,
   "metadata": {},
   "outputs": [],
   "source": []
  }
 ],
 "metadata": {
  "kernelspec": {
   "display_name": "dawr-venv",
   "language": "python",
   "name": "python3"
  },
  "language_info": {
   "name": "python",
   "version": "3.9.13"
  },
  "orig_nbformat": 4,
  "vscode": {
   "interpreter": {
    "hash": "eff4889e564b93054af6e101f06ab642e66cf9ca8682cba378c0bd98bcb37490"
   }
  }
 },
 "nbformat": 4,
 "nbformat_minor": 2
}
