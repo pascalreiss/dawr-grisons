{
 "cells": [
  {
   "cell_type": "code",
   "execution_count": 53,
   "metadata": {},
   "outputs": [],
   "source": [
    "import pandas as pd\n",
    "from pathlib import Path\n",
    "from util import read_csv"
   ]
  },
  {
   "cell_type": "code",
   "execution_count": 54,
   "metadata": {},
   "outputs": [
    {
     "name": "stdout",
     "output_type": "stream",
     "text": [
      "0   NaN\n",
      "Name: Famous_Person_count, dtype: float64\n",
      "0    10.0\n",
      "Name: Famous_Person_count, dtype: float64\n",
      "0    False\n",
      "Name: Famous_Person_count, dtype: bool\n"
     ]
    }
   ],
   "source": [
    "df = read_csv('data', 'combined_data_set.csv')\n",
    "\n",
    "famous_count_surses = df[df['Gemeinde_Name'] == 'Surses']['Famous_Person_count'].reset_index(drop=True)\n",
    "famous_count_vaz = df[df['Gemeinde_Name'] == 'Vaz/Obervaz']['Famous_Person_count'].reset_index(drop=True)\n",
    "\n",
    "print(famous_count_surses)\n",
    "print(famous_count_vaz)\n",
    "\n",
    "print (famous_count_vaz > famous_count_surses)\n",
    "\n"
   ]
  }
 ],
 "metadata": {
  "kernelspec": {
   "display_name": "dawr",
   "language": "python",
   "name": "python3"
  },
  "language_info": {
   "codemirror_mode": {
    "name": "ipython",
    "version": 3
   },
   "file_extension": ".py",
   "mimetype": "text/x-python",
   "name": "python",
   "nbconvert_exporter": "python",
   "pygments_lexer": "ipython3",
   "version": "3.10.10"
  },
  "orig_nbformat": 4,
  "vscode": {
   "interpreter": {
    "hash": "8842fe4ff5befa1ea6f626dfd16fef49ff1b37abc431b5af37874790cde90296"
   }
  }
 },
 "nbformat": 4,
 "nbformat_minor": 2
}
