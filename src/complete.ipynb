{
 "cells": [
  {
   "cell_type": "code",
   "execution_count": 130,
   "metadata": {},
   "outputs": [],
   "source": [
    "from util import read_csv\n",
    "from util import create_csv\n",
    "from wikipedia_crawler import get_famous_people_and_save\n",
    "from create_dataframe import merge_DataFrames_and_save\n",
    "\n",
    "import numpy as np\n",
    "import pandas as pd"
   ]
  },
  {
   "attachments": {},
   "cell_type": "markdown",
   "metadata": {},
   "source": [
    "# Prepare data"
   ]
  },
  {
   "cell_type": "code",
   "execution_count": 131,
   "metadata": {},
   "outputs": [
    {
     "name": "stderr",
     "output_type": "stream",
     "text": [
      "c:\\Users\\Pascal\\Documents\\FH Project\\dawr\\dawr-grisons\\src\\util.py:45: FutureWarning: The pandas.np module is deprecated and will be removed from pandas in a future version. Import numpy directly instead.\n",
      "  df.replace('---', pd.np.nan, inplace=True)\n",
      "c:\\Users\\Pascal\\Documents\\FH Project\\dawr\\dawr-grisons\\src\\util.py:45: FutureWarning: The pandas.np module is deprecated and will be removed from pandas in a future version. Import numpy directly instead.\n",
      "  df.replace('---', pd.np.nan, inplace=True)\n"
     ]
    }
   ],
   "source": [
    "#Create Data if it does not exit\n",
    "get_famous_people_and_save()\n",
    "merge_DataFrames_and_save()"
   ]
  },
  {
   "attachments": {},
   "cell_type": "markdown",
   "metadata": {},
   "source": [
    "# Read data"
   ]
  },
  {
   "cell_type": "code",
   "execution_count": 132,
   "metadata": {},
   "outputs": [
    {
     "name": "stderr",
     "output_type": "stream",
     "text": [
      "c:\\Users\\Pascal\\Documents\\FH Project\\dawr\\dawr-grisons\\src\\util.py:45: FutureWarning: The pandas.np module is deprecated and will be removed from pandas in a future version. Import numpy directly instead.\n",
      "  df.replace('---', pd.np.nan, inplace=True)\n"
     ]
    }
   ],
   "source": [
    "df = read_csv('data', 'combined_data_set.csv')"
   ]
  },
  {
   "attachments": {},
   "cell_type": "markdown",
   "metadata": {},
   "source": [
    "# Rankings"
   ]
  },
  {
   "cell_type": "code",
   "execution_count": 133,
   "metadata": {},
   "outputs": [],
   "source": [
    "df['Bevoelkerungsdichte_normalized_inverse'] = 1 - (df['Bevoelkerungsdichte_pro_km2'] - df['Bevoelkerungsdichte_pro_km2'].min()) / (df['Bevoelkerungsdichte_pro_km2'].max() - df['Bevoelkerungsdichte_pro_km2'].min())\n",
    "df['Auslaender_in_prozent_normalized_inverse'] = (df['Auslaender_in_prozent'].max() - df['Auslaender_in_prozent']) / (df['Auslaender_in_prozent'].max() - df['Auslaender_in_prozent'].min())\n",
    "df['Buenzli_Rank_ranking_1'] = ((0.9 * df['Bevoelkerungsdichte_normalized_inverse'] + 1.6 * df['Auslaender_in_prozent_normalized_inverse'] + 0.5 * df['Wahlbeteiligung']) / 3) * 100\n",
    "\n",
    "#x_normalized_inverse = 1 - (x - x_min) / (x_max - x_min)\n",
    "#x_normalized = (x - x_min) / (x_max - x_min)\n",
    "\n",
    "df['Bevoelkerungsdichte_normalized'] = (df['Bevoelkerungsdichte_pro_km2'] - df['Bevoelkerungsdichte_pro_km2'].min()) / (df['Bevoelkerungsdichte_pro_km2'].max() - df['Bevoelkerungsdichte_pro_km2'].min())\n",
    "df['Einwohner_normalized'] = (df['Einwohner'] - df['Einwohner'].min()) / (df['Einwohner'].max() - df['Einwohner'].min())\n",
    "df['Socialising_Rank_ranking_2'] = ((1.4 * df['Bevoelkerungsdichte_normalized'] + 1.1 * df['Einwohner_normalized'] + 0.5 * df['No_ratio']) / 3) * 100\n",
    "\n",
    "# Sum up the famous people for all districts (2 criteria used)\n",
    "# Now calculate a ratio of famous people per capita (3rd criteria)\n",
    "total_famous_people_per_district = df.groupby('district')['Famous_Person_count'].sum()\n",
    "df['famous_person_count_district'] = df['district'].map(total_famous_people_per_district)\n",
    "inhabitants_per_district = df.groupby('district')['Einwohner'].sum()\n",
    "df['inhabitants_district'] = df['district'].map(inhabitants_per_district)\n",
    "df['famous_people_per_capita'] = df['famous_person_count_district'] / df['inhabitants_district']\n",
    "\n",
    "\n",
    "df['first_sector_Workers_total'] = df['first_sector_Workers_total'].replace('X', 0)\n",
    "df['first_sector_Workers_total'] = pd.to_numeric(df['first_sector_Workers_total'])\n",
    "\n",
    "df['first_sector_Workers_total_normalized'] = (df['first_sector_Workers_total'] - df['first_sector_Workers_total'].min()) / (df['first_sector_Workers_total'].max() - df['first_sector_Workers_total'].min())\n",
    "df['famous_people_per_capita_normalized'] = (df['famous_people_per_capita'] - df['famous_people_per_capita'].min()) / (df['famous_people_per_capita'].max() - df['famous_people_per_capita'].min())\n",
    "df['New_homes_per_1000_inhabitants_normalized'] = (df['New_homes_per_1000_inhabitants'] - df['New_homes_per_1000_inhabitants'].min()) / (df['New_homes_per_1000_inhabitants'].max() - df['New_homes_per_1000_inhabitants'].min())\n",
    "df['Famous_People_relation_to_first_sector_and_new_homes_ranking_3'] = ((1.8 * df['famous_people_per_capita_normalized'] + 0.7 * df['first_sector_Workers_total_normalized'] + 0.5 * df['New_homes_per_1000_inhabitants_normalized']) / 3) * 100\n",
    "\n",
    "create_csv('data', 'combined_data_set.csv', df, index=False, overwrite=True)"
   ]
  },
  {
   "cell_type": "code",
   "execution_count": 134,
   "metadata": {},
   "outputs": [
    {
     "name": "stdout",
     "output_type": "stream",
     "text": [
      "            Gemeinde_Name  Buenzli_Rank_ranking_1\n",
      "23             Tschappina               96.164215\n",
      "73                  Furna               94.680090\n",
      "25              Safiental               93.900044\n",
      "76   Conters im Prättigau               93.880634\n",
      "20                Flerden               93.273509\n",
      "17               Scharans               92.873142\n",
      "34     Muntogna da Schons               92.307731\n",
      "97                Sumvitg               91.789863\n",
      "96        Medel (Lucmagn)               91.221453\n",
      "27                  Avers               91.134147\n",
      "26              Domleschg               90.234851\n",
      "72                Fideris               89.633794\n",
      "13               Lumnezia               89.381487\n",
      "24                 Urmein               89.307486\n",
      "70            Val Müstair               89.033625\n",
      "78                 Luzein               88.714099\n",
      "45                 Valsot               87.905357\n",
      "21                 Masein               87.161330\n",
      "91                 Grüsch               87.149959\n",
      "100     Obersaxen Mundaun               87.110167\n"
     ]
    }
   ],
   "source": [
    "cols_to_show = ['Gemeinde_Name', 'Buenzli_Rank_ranking_1']\n",
    "ranking_1_df = df.sort_values(by='Buenzli_Rank_ranking_1', ascending=False)\n",
    "ranking_1_top_20 = ranking_1_df[cols_to_show].head(20)\n",
    "print(ranking_1_top_20)"
   ]
  },
  {
   "cell_type": "code",
   "execution_count": 135,
   "metadata": {},
   "outputs": [
    {
     "name": "stdout",
     "output_type": "stream",
     "text": [
      "        Gemeinde_Name  Socialising_Rank_ranking_2\n",
      "79               Chur                   88.629474\n",
      "90          Landquart                   48.428015\n",
      "36          Domat/Ems                   36.832081\n",
      "85             Zizers                   32.375702\n",
      "15          Fürstenau                   27.332552\n",
      "35            Bonaduz                   25.600884\n",
      "22             Thusis                   23.339087\n",
      "89             Malans                   22.768744\n",
      "52         St. Moritz                   22.000201\n",
      "38           Felsberg                   21.522937\n",
      "71              Davos                   19.137263\n",
      "77             Küblis                   18.282508\n",
      "84           Untervaz                   16.540441\n",
      "83            Trimmis                   15.982945\n",
      "11           Schluein                   15.882523\n",
      "88          Maienfeld                   15.517470\n",
      "37            Rhäzüns                   15.138101\n",
      "19              Cazis                   15.119231\n",
      "18  Sils im Domleschg                   15.030243\n",
      "21             Masein                   14.739574\n"
     ]
    }
   ],
   "source": [
    "cols_to_show = ['Gemeinde_Name', 'Socialising_Rank_ranking_2']\n",
    "ranking_2_df = df.sort_values(by='Socialising_Rank_ranking_2', ascending=False)\n",
    "ranking_2_top_20 = ranking_2_df[cols_to_show].head(20)\n",
    "print(ranking_2_top_20)"
   ]
  },
  {
   "cell_type": "code",
   "execution_count": 136,
   "metadata": {},
   "outputs": [
    {
     "name": "stdout",
     "output_type": "stream",
     "text": [
      "           Gemeinde_Name  \\\n",
      "54  Sils im Engadin/Segl   \n",
      "57             Bregaglia   \n",
      "55            Silvaplana   \n",
      "56                  Zuoz   \n",
      "53               S-chanf   \n",
      "52            St. Moritz   \n",
      "47   Celerina/Schlarigna   \n",
      "75              Klosters   \n",
      "51               Samedan   \n",
      "71                 Davos   \n",
      "48              Madulain   \n",
      "50    La Punt Chamues-ch   \n",
      "46                 Bever   \n",
      "49            Pontresina   \n",
      "26             Domleschg   \n",
      "91                Grüsch   \n",
      "21                Masein   \n",
      "78                Luzein   \n",
      "20               Flerden   \n",
      "72               Fideris   \n",
      "\n",
      "    Famous_People_relation_to_first_sector_and_new_homes_ranking_3  \n",
      "54                                          70.383469               \n",
      "57                                          68.895269               \n",
      "55                                          68.829226               \n",
      "56                                          67.941215               \n",
      "53                                          65.083300               \n",
      "52                                          64.969779               \n",
      "47                                          63.645603               \n",
      "75                                          63.187141               \n",
      "51                                          62.915907               \n",
      "71                                          62.779847               \n",
      "48                                          62.222222               \n",
      "50                                          61.574074               \n",
      "46                                          61.481481               \n",
      "49                                          60.969006               \n",
      "26                                          59.295652               \n",
      "91                                          58.936717               \n",
      "21                                          56.586993               \n",
      "78                                          56.285936               \n",
      "20                                          52.959660               \n",
      "72                                          52.342283               \n"
     ]
    }
   ],
   "source": [
    "cols_to_show = ['Gemeinde_Name', 'Famous_People_relation_to_first_sector_and_new_homes_ranking_3']\n",
    "ranking_3_df = df.sort_values(by='Famous_People_relation_to_first_sector_and_new_homes_ranking_3', ascending=False)\n",
    "ranking_3_top_20 = ranking_3_df[cols_to_show].head(20)\n",
    "print(ranking_3_top_20)"
   ]
  },
  {
   "cell_type": "code",
   "execution_count": 137,
   "metadata": {},
   "outputs": [
    {
     "name": "stdout",
     "output_type": "stream",
     "text": [
      "  Gemeinde_Name  Buenzli_Rank_ranking_1  \\\n",
      "0       Flerden               93.273509   \n",
      "1     Domleschg               90.234851   \n",
      "2       Fideris               89.633794   \n",
      "3        Luzein               88.714099   \n",
      "4        Masein               87.161330   \n",
      "5        Grüsch               87.149959   \n",
      "\n",
      "   Famous_People_relation_to_first_sector_and_new_homes_ranking_3  \n",
      "0                                          52.959660               \n",
      "1                                          59.295652               \n",
      "2                                          52.342283               \n",
      "3                                          56.285936               \n",
      "4                                          56.586993               \n",
      "5                                          58.936717               \n"
     ]
    }
   ],
   "source": [
    "# merge 1 and 3\n",
    "merged_df = pd.merge(ranking_1_top_20, ranking_3_top_20, on='Gemeinde_Name')\n",
    "print(merged_df)\n",
    "\n",
    "# I'll use Domleschg, as it has a good combination of buenzli_rating and famous_people_rating thus implying it's a town where the average person is a bit smarter and its still nice and cozy with a lot of nature"
   ]
  },
  {
   "cell_type": "code",
   "execution_count": null,
   "metadata": {},
   "outputs": [],
   "source": [
    "domleschg = df[df['Gemeinde_Name'] == 'Domleschg']"
   ]
  },
  {
   "attachments": {},
   "cell_type": "markdown",
   "metadata": {},
   "source": [
    "# Visualizations"
   ]
  },
  {
   "cell_type": "code",
   "execution_count": null,
   "metadata": {},
   "outputs": [],
   "source": [
    "\n"
   ]
  }
 ],
 "metadata": {
  "kernelspec": {
   "display_name": "dawr",
   "language": "python",
   "name": "python3"
  },
  "language_info": {
   "codemirror_mode": {
    "name": "ipython",
    "version": 3
   },
   "file_extension": ".py",
   "mimetype": "text/x-python",
   "name": "python",
   "nbconvert_exporter": "python",
   "pygments_lexer": "ipython3",
   "version": "3.10.10"
  },
  "orig_nbformat": 4,
  "vscode": {
   "interpreter": {
    "hash": "8842fe4ff5befa1ea6f626dfd16fef49ff1b37abc431b5af37874790cde90296"
   }
  }
 },
 "nbformat": 4,
 "nbformat_minor": 2
}
