{
 "cells": [
  {
   "cell_type": "code",
   "execution_count": 299,
   "metadata": {},
   "outputs": [],
   "source": [
    "from util import read_csv\n",
    "from util import create_csv\n",
    "from wikipedia_crawler import get_famous_people_and_save\n",
    "from create_dataframe import merge_DataFrames_and_save\n",
    "\n",
    "import numpy as np\n",
    "import pandas as pd\n",
    "import matplotlib.pyplot as plt"
   ]
  },
  {
   "attachments": {},
   "cell_type": "markdown",
   "metadata": {},
   "source": [
    "# Prepare data"
   ]
  },
  {
   "cell_type": "code",
   "execution_count": 300,
   "metadata": {},
   "outputs": [
    {
     "name": "stderr",
     "output_type": "stream",
     "text": [
      "c:\\Users\\Pascal\\Documents\\FH Project\\dawr\\dawr-grisons\\src\\util.py:45: FutureWarning: The pandas.np module is deprecated and will be removed from pandas in a future version. Import numpy directly instead.\n",
      "  df.replace('---', pd.np.nan, inplace=True)\n",
      "c:\\Users\\Pascal\\Documents\\FH Project\\dawr\\dawr-grisons\\src\\util.py:45: FutureWarning: The pandas.np module is deprecated and will be removed from pandas in a future version. Import numpy directly instead.\n",
      "  df.replace('---', pd.np.nan, inplace=True)\n"
     ]
    }
   ],
   "source": [
    "#Create Data if it does not exit\n",
    "get_famous_people_and_save()\n",
    "merge_DataFrames_and_save()"
   ]
  },
  {
   "attachments": {},
   "cell_type": "markdown",
   "metadata": {},
   "source": [
    "# Read data"
   ]
  },
  {
   "cell_type": "code",
   "execution_count": 301,
   "metadata": {},
   "outputs": [
    {
     "name": "stderr",
     "output_type": "stream",
     "text": [
      "c:\\Users\\Pascal\\Documents\\FH Project\\dawr\\dawr-grisons\\src\\util.py:45: FutureWarning: The pandas.np module is deprecated and will be removed from pandas in a future version. Import numpy directly instead.\n",
      "  df.replace('---', pd.np.nan, inplace=True)\n"
     ]
    }
   ],
   "source": [
    "df = read_csv('data', 'combined_data_set.csv')"
   ]
  },
  {
   "attachments": {},
   "cell_type": "markdown",
   "metadata": {},
   "source": [
    "# Rankings"
   ]
  },
  {
   "cell_type": "code",
   "execution_count": 302,
   "metadata": {},
   "outputs": [],
   "source": [
    "df['Bevoelkerungsdichte_normalized_inverse'] = 1 - (df['Bevoelkerungsdichte_pro_km2'] - df['Bevoelkerungsdichte_pro_km2'].min()) / (df['Bevoelkerungsdichte_pro_km2'].max() - df['Bevoelkerungsdichte_pro_km2'].min())\n",
    "df['Auslaender_in_prozent_normalized_inverse'] = (df['Auslaender_in_prozent'].max() - df['Auslaender_in_prozent']) / (df['Auslaender_in_prozent'].max() - df['Auslaender_in_prozent'].min())\n",
    "df['Buenzli_Rank_ranking_1'] = ((0.9 * df['Bevoelkerungsdichte_normalized_inverse'] + 1.6 * df['Auslaender_in_prozent_normalized_inverse'] + 0.5 * df['Wahlbeteiligung']) / 3) * 100\n",
    "\n",
    "#x_normalized_inverse = 1 - (x - x_min) / (x_max - x_min)\n",
    "#x_normalized = (x - x_min) / (x_max - x_min)\n",
    "\n",
    "df['Bevoelkerungsdichte_normalized'] = (df['Bevoelkerungsdichte_pro_km2'] - df['Bevoelkerungsdichte_pro_km2'].min()) / (df['Bevoelkerungsdichte_pro_km2'].max() - df['Bevoelkerungsdichte_pro_km2'].min())\n",
    "df['Einwohner_normalized'] = (df['Einwohner'] - df['Einwohner'].min()) / (df['Einwohner'].max() - df['Einwohner'].min())\n",
    "df['Socialising_Rank_ranking_2'] = ((1.4 * df['Bevoelkerungsdichte_normalized'] + 1.1 * df['Einwohner_normalized'] + 0.5 * df['No_ratio']) / 3) * 100\n",
    "\n",
    "# Sum up the famous people for all districts (2 criteria used)\n",
    "# Now calculate a ratio of famous people per capita (3rd criteria)\n",
    "total_famous_people_per_district = df.groupby('district')['Famous_Person_count'].sum()\n",
    "df['famous_person_count_district'] = df['district'].map(total_famous_people_per_district)\n",
    "inhabitants_per_district = df.groupby('district')['Einwohner'].sum()\n",
    "df['inhabitants_district'] = df['district'].map(inhabitants_per_district)\n",
    "df['famous_people_per_capita'] = df['famous_person_count_district'] / df['inhabitants_district']\n",
    "\n",
    "\n",
    "df['third_sector_Workers_total'] = df['third_sector_Workers_total'].replace('X', 0)\n",
    "df['third_sector_Workers_total'] = pd.to_numeric(df['third_sector_Workers_total'])\n",
    "\n",
    "df['second_sector_Workers_total'] = df['second_sector_Workers_total'].replace('X', 0)\n",
    "df['second_sector_Workers_total'] = pd.to_numeric(df['second_sector_Workers_total'])\n",
    "\n",
    "df['first_sector_Workers_total'] = df['first_sector_Workers_total'].replace('X', 0)\n",
    "df['first_sector_Workers_total'] = pd.to_numeric(df['first_sector_Workers_total'])\n",
    "df['third_sector_Workers_ratio'] = df['third_sector_Workers_total'] / (df['first_sector_Workers_total'] + df['second_sector_Workers_total'] + df['third_sector_Workers_total'])\n",
    "\n",
    "df['third_sector_Workers_total_normalized'] = (df['third_sector_Workers_total'] - df['third_sector_Workers_total'].min()) / (df['third_sector_Workers_total'].max() - df['third_sector_Workers_total'].min())\n",
    "df['famous_people_per_capita_normalized'] = (df['famous_people_per_capita'] - df['famous_people_per_capita'].min()) / (df['famous_people_per_capita'].max() - df['famous_people_per_capita'].min())\n",
    "df['New_homes_per_1000_inhabitants_normalized'] = (df['New_homes_per_1000_inhabitants'] - df['New_homes_per_1000_inhabitants'].min()) / (df['New_homes_per_1000_inhabitants'].max() - df['New_homes_per_1000_inhabitants'].min())\n",
    "df['Famous_People_relation_to_third_sector_and_new_homes_ranking_3'] = ((1.8 * df['famous_people_per_capita_normalized'] + 0.7 * df['third_sector_Workers_total_normalized'] + 0.5 * df['New_homes_per_1000_inhabitants_normalized']) / 3) * 100\n",
    "\n",
    "create_csv('data', 'combined_data_set.csv', df, index=False, overwrite=True)"
   ]
  },
  {
   "cell_type": "code",
   "execution_count": 303,
   "metadata": {},
   "outputs": [
    {
     "name": "stdout",
     "output_type": "stream",
     "text": [
      "            Gemeinde_Name  Buenzli_Rank_ranking_1\n",
      "23             Tschappina               96.164215\n",
      "73                  Furna               94.680090\n",
      "25              Safiental               93.900044\n",
      "76   Conters im Prättigau               93.880634\n",
      "20                Flerden               93.273509\n",
      "17               Scharans               92.873142\n",
      "34     Muntogna da Schons               92.307731\n",
      "97                Sumvitg               91.789863\n",
      "96        Medel (Lucmagn)               91.221453\n",
      "27                  Avers               91.134147\n",
      "26              Domleschg               90.234851\n",
      "72                Fideris               89.633794\n",
      "13               Lumnezia               89.381487\n",
      "24                 Urmein               89.307486\n",
      "70            Val Müstair               89.033625\n",
      "78                 Luzein               88.714099\n",
      "45                 Valsot               87.905357\n",
      "21                 Masein               87.161330\n",
      "91                 Grüsch               87.149959\n",
      "100     Obersaxen Mundaun               87.110167\n"
     ]
    }
   ],
   "source": [
    "cols_to_show = ['Gemeinde_Name', 'Buenzli_Rank_ranking_1']\n",
    "ranking_1_df = df.sort_values(by='Buenzli_Rank_ranking_1', ascending=False)\n",
    "ranking_1_top_20 = ranking_1_df[cols_to_show].head(20)\n",
    "print(ranking_1_top_20)"
   ]
  },
  {
   "cell_type": "code",
   "execution_count": 304,
   "metadata": {},
   "outputs": [
    {
     "name": "stdout",
     "output_type": "stream",
     "text": [
      "        Gemeinde_Name  Socialising_Rank_ranking_2\n",
      "79               Chur                   88.629474\n",
      "90          Landquart                   48.428015\n",
      "36          Domat/Ems                   36.832081\n",
      "85             Zizers                   32.375702\n",
      "15          Fürstenau                   27.332552\n",
      "35            Bonaduz                   25.600884\n",
      "22             Thusis                   23.339087\n",
      "89             Malans                   22.768744\n",
      "52         St. Moritz                   22.000201\n",
      "38           Felsberg                   21.522937\n",
      "71              Davos                   19.137263\n",
      "77             Küblis                   18.282508\n",
      "84           Untervaz                   16.540441\n",
      "83            Trimmis                   15.982945\n",
      "11           Schluein                   15.882523\n",
      "88          Maienfeld                   15.517470\n",
      "37            Rhäzüns                   15.138101\n",
      "19              Cazis                   15.119231\n",
      "18  Sils im Domleschg                   15.030243\n",
      "21             Masein                   14.739574\n"
     ]
    }
   ],
   "source": [
    "cols_to_show = ['Gemeinde_Name', 'Socialising_Rank_ranking_2']\n",
    "ranking_2_df = df.sort_values(by='Socialising_Rank_ranking_2', ascending=False)\n",
    "ranking_2_top_20 = ranking_2_df[cols_to_show].head(20)\n",
    "print(ranking_2_top_20)"
   ]
  },
  {
   "cell_type": "code",
   "execution_count": 305,
   "metadata": {},
   "outputs": [
    {
     "name": "stdout",
     "output_type": "stream",
     "text": [
      "           Gemeinde_Name  \\\n",
      "54  Sils im Engadin/Segl   \n",
      "55            Silvaplana   \n",
      "52            St. Moritz   \n",
      "56                  Zuoz   \n",
      "51               Samedan   \n",
      "47   Celerina/Schlarigna   \n",
      "49            Pontresina   \n",
      "57             Bregaglia   \n",
      "53               S-chanf   \n",
      "46                 Bever   \n",
      "50    La Punt Chamues-ch   \n",
      "48              Madulain   \n",
      "21                Masein   \n",
      "71                 Davos   \n",
      "20               Flerden   \n",
      "91                Grüsch   \n",
      "72               Fideris   \n",
      "75              Klosters   \n",
      "73                 Furna   \n",
      "26             Domleschg   \n",
      "\n",
      "    Famous_People_relation_to_third_sector_and_new_homes_ranking_3  \n",
      "54                                          68.612506               \n",
      "55                                          68.309680               \n",
      "52                                          68.247084               \n",
      "56                                          66.287099               \n",
      "51                                          62.404894               \n",
      "47                                          61.901728               \n",
      "49                                          61.443737               \n",
      "57                                          61.068581               \n",
      "53                                          60.822830               \n",
      "46                                          60.148800               \n",
      "50                                          60.117261               \n",
      "48                                          60.031539               \n",
      "21                                          54.122576               \n",
      "71                                          51.877993               \n",
      "20                                          49.275365               \n",
      "91                                          47.324647               \n",
      "72                                          47.231498               \n",
      "75                                          47.051814               \n",
      "73                                          45.846722               \n",
      "26                                          45.498153               \n"
     ]
    }
   ],
   "source": [
    "cols_to_show = ['Gemeinde_Name', 'Famous_People_relation_to_third_sector_and_new_homes_ranking_3']\n",
    "ranking_3_df = df.sort_values(by='Famous_People_relation_to_third_sector_and_new_homes_ranking_3', ascending=False)\n",
    "ranking_3_top_20 = ranking_3_df[cols_to_show].head(20)\n",
    "print(ranking_3_top_20)"
   ]
  },
  {
   "cell_type": "code",
   "execution_count": 306,
   "metadata": {},
   "outputs": [
    {
     "name": "stdout",
     "output_type": "stream",
     "text": [
      "  Gemeinde_Name  Buenzli_Rank_ranking_1  \\\n",
      "0         Furna               94.680090   \n",
      "1       Flerden               93.273509   \n",
      "2     Domleschg               90.234851   \n",
      "3       Fideris               89.633794   \n",
      "4        Masein               87.161330   \n",
      "5        Grüsch               87.149959   \n",
      "\n",
      "   Famous_People_relation_to_third_sector_and_new_homes_ranking_3  \n",
      "0                                          45.846722               \n",
      "1                                          49.275365               \n",
      "2                                          45.498153               \n",
      "3                                          47.231498               \n",
      "4                                          54.122576               \n",
      "5                                          47.324647               \n"
     ]
    }
   ],
   "source": [
    "# merge 1 and 3\n",
    "merged_df = pd.merge(ranking_1_top_20, ranking_3_top_20, on='Gemeinde_Name')\n",
    "print(merged_df)\n",
    "\n",
    "# I'll use Domleschg, as it has a good combination of buenzli_rating and famous_people_rating thus implying it's a town where the average person is a bit smarter and its still nice and cozy with a lot of nature"
   ]
  },
  {
   "cell_type": "code",
   "execution_count": 307,
   "metadata": {},
   "outputs": [
    {
     "name": "stdout",
     "output_type": "stream",
     "text": [
      "21    498\n",
      "Name: Einwohner, dtype: int64\n",
      "21    5.220884\n",
      "Name: Auslaender_in_prozent, dtype: float64\n",
      "21    21.760391\n",
      "Name: Einwohneraenderung, dtype: float64\n",
      "21    118.571429\n",
      "Name: Bevoelkerungsdichte_pro_km2, dtype: float64\n"
     ]
    }
   ],
   "source": [
    "masein = df[df['Gemeinde_Name'] == 'Masein']\n",
    "print(masein['Einwohner'])\n",
    "print(masein['Auslaender_in_prozent'])\n",
    "print(masein['Einwohneraenderung'])\n",
    "print(masein['Bevoelkerungsdichte_pro_km2'])"
   ]
  },
  {
   "attachments": {},
   "cell_type": "markdown",
   "metadata": {},
   "source": [
    "# Visualizations"
   ]
  },
  {
   "attachments": {},
   "cell_type": "markdown",
   "metadata": {},
   "source": [
    "## Anzahl Einwohner pro km2 verglichen mit anderen Gemeinden mit ähnlichem Ausländeranteil"
   ]
  },
  {
   "cell_type": "code",
   "execution_count": 308,
   "metadata": {},
   "outputs": [
    {
     "data": {
      "image/png": "[encoded data removed]",
      "text/plain": [
       "<Figure size 640x480 with 1 Axes>"
      ]
     },
     "metadata": {},
     "output_type": "display_data"
    }
   ],
   "source": [
    "column_name = 'Gemeinde_Name'\n",
    "value_to_select = 'Masein'\n",
    "\n",
    "# set the number of rows above and below the selected row to include\n",
    "n = 3\n",
    "\n",
    "df = df.sort_values(by='Auslaender_in_prozent', ascending=True).reset_index(drop=True)\n",
    "# create the boolean condition to select the rows that meet the condition\n",
    "boolean_condition = (df[column_name] == value_to_select)\n",
    "# get the range of rows based on the selected row and the number of rows above and below it\n",
    "top = max(0, boolean_condition.values.argmax() - n)\n",
    "bottom = boolean_condition.values.argmax() + n + 1\n",
    "\n",
    "range_df = df.loc[top:bottom, ['Gemeinde_Name', 'Bevoelkerungsdichte_pro_km2', 'Einwohneraenderung', 'Auslaender_in_prozent', 'third_sector_Workers_ratio']]\n",
    "\n",
    "# create the scatter plot\n",
    "plt.scatter(range_df['Einwohneraenderung'], range_df['Bevoelkerungsdichte_pro_km2'])\n",
    "\n",
    "for index, row in range_df.iterrows():\n",
    "     plt.annotate(row['Gemeinde_Name'], (row['Einwohneraenderung'], row['Bevoelkerungsdichte_pro_km2']),\n",
    "                 xytext=(5,-3), textcoords='offset points')\n",
    "\n",
    "# set the labels for the axes\n",
    "plt.xlabel('Einwohneränderung')\n",
    "plt.ylabel('Bevölkerungsdichte')\n",
    "\n",
    "# show the plot\n",
    "plt.show()"
   ]
  },
  {
   "cell_type": "code",
   "execution_count": 309,
   "metadata": {},
   "outputs": [
    {
     "ename": "AttributeError",
     "evalue": "'BarContainer' object has no attribute 'get_height'",
     "output_type": "error",
     "traceback": [
      "\u001b[1;31m---------------------------------------------------------------------------\u001b[0m",
      "\u001b[1;31mAttributeError\u001b[0m                            Traceback (most recent call last)",
      "Cell \u001b[1;32mIn[309], line 8\u001b[0m\n\u001b[0;32m      6\u001b[0m \u001b[39m# iterate over each bar to add the annotation\u001b[39;00m\n\u001b[0;32m      7\u001b[0m \u001b[39mfor\u001b[39;00m p \u001b[39min\u001b[39;00m ax\u001b[39m.\u001b[39mcontainers:\n\u001b[1;32m----> 8\u001b[0m     \u001b[39mfor\u001b[39;00m i, (val, gemeinde_name) \u001b[39min\u001b[39;00m \u001b[39menumerate\u001b[39m(\u001b[39mzip\u001b[39m(p\u001b[39m.\u001b[39;49mget_height(), range_df[\u001b[39m'\u001b[39m\u001b[39mGemeinde_Name\u001b[39m\u001b[39m'\u001b[39m])):\n\u001b[0;32m      9\u001b[0m         ax\u001b[39m.\u001b[39mannotate(\u001b[39mf\u001b[39m\u001b[39m'\u001b[39m\u001b[39m{\u001b[39;00mgemeinde_name\u001b[39m}\u001b[39;00m\u001b[39m\\n\u001b[39;00m\u001b[39m{\u001b[39;00mval\u001b[39m:\u001b[39;00m\u001b[39m.1f\u001b[39m\u001b[39m}\u001b[39;00m\u001b[39m'\u001b[39m, (p\u001b[39m.\u001b[39mget_x()[i] \u001b[39m+\u001b[39m p\u001b[39m.\u001b[39mget_width()[i] \u001b[39m/\u001b[39m \u001b[39m2\u001b[39m, val),\n\u001b[0;32m     10\u001b[0m                     ha\u001b[39m=\u001b[39m\u001b[39m'\u001b[39m\u001b[39mcenter\u001b[39m\u001b[39m'\u001b[39m, va\u001b[39m=\u001b[39m\u001b[39m'\u001b[39m\u001b[39mbottom\u001b[39m\u001b[39m'\u001b[39m)\n\u001b[0;32m     12\u001b[0m \u001b[39m# set the labels for the axes\u001b[39;00m\n",
      "\u001b[1;31mAttributeError\u001b[0m: 'BarContainer' object has no attribute 'get_height'"
     ]
    },
    {
     "data": {
      "image/png": "[encoded data removed]",
      "text/plain": [
       "<Figure size 640x480 with 1 Axes>"
      ]
     },
     "metadata": {},
     "output_type": "display_data"
    }
   ],
   "source": [
    "y_col = 'third_sector_Workers_ratio'\n",
    "\n",
    "# create the barplot\n",
    "ax = range_df.plot(kind='bar', x='Gemeinde_Name', y=y_col)\n",
    "\n",
    "# iterate over each bar to add the annotation\n",
    "for p in ax.containers:\n",
    "    for i, (val, gemeinde_name) in enumerate(zip(p.get_height(), range_df['Gemeinde_Name'])):\n",
    "        ax.annotate(f'{gemeinde_name}\\n{val:.1f}', (p.get_x()[i] + p.get_width()[i] / 2, val),\n",
    "                    ha='center', va='bottom')\n",
    "\n",
    "# set the labels for the axes\n",
    "ax.set_xlabel('Gemeinde Name')\n",
    "ax.set_ylabel(y_col)\n",
    "\n",
    "# show the plot\n",
    "plt.show()"
   ]
  },
  {
   "cell_type": "code",
   "execution_count": null,
   "metadata": {},
   "outputs": [
    {
     "name": "stdout",
     "output_type": "stream",
     "text": [
      "  Gemeinde_Name  Bevoelkerungsdichte_pro_km2\n",
      "0          Chur                   683.665192\n",
      "1     Landquart                   473.276776\n",
      "2     Domat/Ems                   335.755574\n",
      "3        Zizers                   316.984559\n",
      "4     Fürstenau                   270.454545\n"
     ]
    }
   ],
   "source": [
    "df = df.sort_values(by='Bevoelkerungsdichte_pro_km2', ascending=False).reset_index(drop=True)\n",
    "\n",
    "cols_to_show = ['Gemeinde_Name', 'Bevoelkerungsdichte_pro_km2']\n",
    "print(df[cols_to_show].head(5))\n"
   ]
  }
 ],
 "metadata": {
  "kernelspec": {
   "display_name": "dawr",
   "language": "python",
   "name": "python3"
  },
  "language_info": {
   "codemirror_mode": {
    "name": "ipython",
    "version": 3
   },
   "file_extension": ".py",
   "mimetype": "text/x-python",
   "name": "python",
   "nbconvert_exporter": "python",
   "pygments_lexer": "ipython3",
   "version": "3.10.10"
  },
  "orig_nbformat": 4,
  "vscode": {
   "interpreter": {
    "hash": "8842fe4ff5befa1ea6f626dfd16fef49ff1b37abc431b5af37874790cde90296"
   }
  }
 },
 "nbformat": 4,
 "nbformat_minor": 2
}
